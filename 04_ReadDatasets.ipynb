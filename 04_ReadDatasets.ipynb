{
 "cells": [
  {
   "cell_type": "markdown",
   "id": "80cf4fd1",
   "metadata": {},
   "source": [
    "Read the file and split in X_train, X_test, y_train, y_test"
   ]
  },
  {
   "cell_type": "code",
   "execution_count": null,
   "id": "46eacc34",
   "metadata": {
    "vscode": {
     "languageId": "plaintext"
    }
   },
   "outputs": [],
   "source": []
  },
  {
   "cell_type": "code",
   "execution_count": null,
   "id": "bc922515",
   "metadata": {
    "vscode": {
     "languageId": "plaintext"
    }
   },
   "outputs": [],
   "source": []
  },
  {
   "cell_type": "code",
   "execution_count": null,
   "id": "66ca307c",
   "metadata": {
    "vscode": {
     "languageId": "plaintext"
    }
   },
   "outputs": [],
   "source": []
  },
  {
   "cell_type": "markdown",
   "id": "ac701c72",
   "metadata": {},
   "source": [
    "Apply any of the tecniques from notebook 04_quantum_kernel in your dataset (QSVC, QClustering, QPCA)"
   ]
  },
  {
   "cell_type": "code",
   "execution_count": null,
   "id": "8534e48e",
   "metadata": {
    "vscode": {
     "languageId": "plaintext"
    }
   },
   "outputs": [],
   "source": []
  },
  {
   "cell_type": "markdown",
   "id": "435b6bfc",
   "metadata": {},
   "source": []
  }
 ],
 "metadata": {
  "language_info": {
   "name": "python"
  }
 },
 "nbformat": 4,
 "nbformat_minor": 5
}
