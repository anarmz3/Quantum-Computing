{
 "cells": [
  {
   "cell_type": "markdown",
   "metadata": {},
   "source": [
    "# 🌟 Final Project – Quantum Informatics Summer 2025\n",
    "\n",
    "The final project will be an individual application of **Quantum Informatics** using any of the core concepts or quantum machine learning models we studied in class.  \n",
    "\n",
    "## 🧠 Suggested Topics\n",
    "You may choose topics like:\n",
    "- QSVC (Quantum Support Vector Classifier)  \n",
    "- VQC (Variational Quantum Classifier)  \n",
    "- QAOA (Quantum Approximate Optimization Algorithm)  \n",
    "- Grover’s Algorithm  \n",
    "- Quantum Error Correction  \n",
    "\n",
    "A **strong suggestion** is to apply a **QML model to a healthcare dataset**, but any domain is allowed with approval.\n",
    "\n",
    "---\n",
    "\n",
    "## 🧪 Suggested Datasets\n",
    "\n",
    "You may choose **one of the datasets below** or another healthcare-related diagnostic dataset with approval:\n",
    "\n",
    "- 🧴 **Melanoma Diagnostics**  \n",
    "  https://www.kaggle.com/code/andrewmvd/diagnostic-principles-and-modeling-insights\n",
    "\n",
    "- 🎗️ **Breast Cancer Diagnostic**  \n",
    "  https://www.kaggle.com/datasets/uciml/breast-cancer-wisconsin-data\n",
    "\n",
    "- 😷 **COVID-19 Diagnostic Dataset**  \n",
    "  *(You may use open-access COVID symptom or CT/X-ray datasets from Kaggle or government repositories—ask for suggestions if needed.)*\n",
    "\n",
    "---\n",
    "\n",
    "## 📬 Project Proposal (Due: **July 10th, 2025 – 11:59 PM**)\n",
    "\n",
    "Before you begin coding, submit a proposal via email to:  \n",
    "📧 **sthefanie.passo@utsa.edu**  \n",
    "(Subject: **Quantum Summer Project Proposal**)\n",
    "\n",
    "### Your proposal must include:\n",
    "1. 🔗 **Dataset link**  \n",
    "2. ⚛️ **Proposed quantum model/application**  \n",
    "3. 📚 **3 scientific articles** related to your dataset/method  \n",
    "4. 💻 **GitHub repository** link for your project\n",
    "\n",
    "---\n",
    "\n",
    "## 📦 Final Deliverables (Due: **July 31st, 2025 – 11:59 PM**)\n",
    "\n",
    "### ✅ 1. Jupyter Notebook\n",
    "- Functional quantum code applying your method  \n",
    "- Include **evaluation metrics**: accuracy, precision, execution time, etc.\n",
    "\n",
    "### ✅ 2. IEEE Conference-Style Article\n",
    "Written using **Overleaf** in IEEE format. (We will cover this setup in class.)\n",
    "\n",
    "#### Include the following sections:\n",
    "- **Abstract**\n",
    "- **Introduction**\n",
    "  - Problem statement\n",
    "  - Justification\n",
    "  - Objectives\n",
    "  - Hypothesis\n",
    "- **Methodology**\n",
    "  - Classical model (if used)\n",
    "  - Quantum model\n",
    "  - Evaluation metrics\n",
    "- **Results and Discussion**\n",
    "  - Performance of models\n",
    "  - Advantages, limitations\n",
    "  - Future work\n",
    "- **Conclusion**\n",
    "\n",
    "> 📌 You must **submit your article to a real Quantum Computing conference** (TBD).  \n",
    "> Co-authors: **Sthefanie Passo**, **Dr. Jeff Prevost**, **You (the student)**\n",
    "\n",
    "---\n",
    "\n",
    "## 🚀 Tips for Success\n",
    "The more **innovative** and **well-documented** your project is, the higher the chances it could be **published**!  \n",
    "Be creative 💡, challenge yourself 💪, and contact **Dr. Prevost** or **Sthefanie** for help when needed.\n",
    "\n",
    "---\n",
    "\n",
    "## 📅 Deliverables Summary Table\n",
    "\n",
    "| 📌 Task | 📃 Description | ⏰ Due Date |\n",
    "|--------|----------------|------------|\n",
    "| ✅ **Proposal Submission** | Dataset, quantum method, 3 articles, GitHub repo (via email) | **Octuber 28th, 2025 – 11:59 PM** |\n",
    "| ✅ **Final Project Submission** | Jupyter notebook + IEEE article (overleaf: sjgp@icomp.ufam.edu.br) | **November 25th, 2025 – 11:59 PM** |\n",
    "| ✅ **Conference Submission** | Screenshot of the Submission | **XXX, 2025 – 11:59 PM** |\n",
    "| ✅ **Final Project Presentation** | Slide show with 10min - 15min/ IEEE article corrected with observations | **December 2nd, 2025 – 1 PM to 3PM** |\n",
    "\n",
    "---\n",
    "Link to the conference: https://sci25.supercomputingindia.org/call_for_papers.html\n",
    "\n",
    "🧠 Good luck! You're capable of creating amazing work!"
   ]
  },
  {
   "cell_type": "code",
   "execution_count": 1,
   "metadata": {},
   "outputs": [
    {
     "data": {
      "text/plain": [
       "2"
      ]
     },
     "execution_count": 1,
     "metadata": {},
     "output_type": "execute_result"
    }
   ],
   "source": [
    "a=1\n",
    "b=1\n",
    "a+b\n"
   ]
  }
 ],
 "metadata": {
  "kernelspec": {
   "display_name": "Python 3.9.6 64-bit",
   "language": "python",
   "name": "python3"
  },
  "language_info": {
   "codemirror_mode": {
    "name": "ipython",
    "version": 3
   },
   "file_extension": ".py",
   "mimetype": "text/x-python",
   "name": "python",
   "nbconvert_exporter": "python",
   "pygments_lexer": "ipython3",
   "version": "3.9.6"
  },
  "orig_nbformat": 4,
  "vscode": {
   "interpreter": {
    "hash": "31f2aee4e71d21fbe5cf8b01ff0e069b9275f58929596ceb00d14d90e3e16cd6"
   }
  }
 },
 "nbformat": 4,
 "nbformat_minor": 2
}
