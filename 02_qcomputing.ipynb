{
 "cells": [
  {
   "cell_type": "code",
   "execution_count": 1,
   "metadata": {},
   "outputs": [
    {
     "data": {
      "text/plain": [
       "14"
      ]
     },
     "execution_count": 1,
     "metadata": {},
     "output_type": "execute_result"
    }
   ],
   "source": [
    "a=5\n",
    "b=8\n",
    "a+9"
   ]
  },
  {
   "cell_type": "markdown",
   "metadata": {},
   "source": [
    "# Quantum Computing vs Classical Computing\n",
    "\n",
    "# Classical Computing\n",
    "Bits 0 and 1, deterministic values\n",
    "\n",
    "# Quantum Computing\n",
    "Qubits |0> and |1>, probability.\n",
    "- Entaglement: the particle have a probability to be 0 and 1 at the same time. a|0>+b|1> = 1 -> 0.8|0> + 0.2|1> = 1 [entaglement concept](https://scienceexchange.caltech.edu/topics/quantum-science-explained/entanglement)\n",
    "- Measurement: when we have a quantum state, our stat co-exist in the stade space from 0 and 1. When we measure this state, decohear to 0 or 1.\n",
    "\n",
    "![](https://caltechsites-prod.s3.amazonaws.com/scienceexchange/images/03-EntanglementPanel-C.max-1000x1000.jpg)\n",
    "\n",
    "- Superposition\n",
    "![](https://i0.wp.com/compass.rauias.com/wp-content/uploads/2023/12/image.png?w=881&ssl=1)\n"
   ]
  },
  {
   "cell_type": "code",
   "execution_count": null,
   "metadata": {},
   "outputs": [],
   "source": []
  },
  {
   "cell_type": "markdown",
   "metadata": {},
   "source": [
    "## Quantum Computing\n",
    "- Decohear: \n",
    "- Quantum error:\n",
    "- Entaglement:  \n",
    "- Superposition:\n",
    "- Explain the Scrodigars Cat:\n",
    "\n",
    "## Articles to read\n",
    "- [Superposition and Entaglement](https://compass.rauias.com/current-affairs/quantum-superposition-entanglement/)\n",
    "- [Entaglement concept](https://scienceexchange.caltech.edu/topics/quantum-science-explained/entanglement)\n",
    "- [Cat](https://www.youtube.com/watch?v=UjaAxUO6-Uw)"
   ]
  },
  {
   "cell_type": "markdown",
   "metadata": {},
   "source": []
  }
 ],
 "metadata": {
  "kernelspec": {
   "display_name": "Python 3.11.2",
   "language": "python",
   "name": "python3"
  },
  "language_info": {
   "codemirror_mode": {
    "name": "ipython",
    "version": 3
   },
   "file_extension": ".py",
   "mimetype": "text/x-python",
   "name": "python",
   "nbconvert_exporter": "python",
   "pygments_lexer": "ipython3",
   "version": "3.11.2"
  },
  "orig_nbformat": 4,
  "vscode": {
   "interpreter": {
    "hash": "e29f0c0a81ae574b1baa83ec23ce56772e36a1f26c4f34350f81be1f16a839e4"
   }
  }
 },
 "nbformat": 4,
 "nbformat_minor": 2
}
